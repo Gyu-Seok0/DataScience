{
 "cells": [
  {
   "cell_type": "markdown",
   "id": "70d77246",
   "metadata": {},
   "source": [
    "https://yjs-program.tistory.com/165"
   ]
  },
  {
   "cell_type": "code",
   "execution_count": 21,
   "id": "8bd67247",
   "metadata": {},
   "outputs": [],
   "source": [
    "import torch\n",
    "import torch.nn as nn\n",
    "import torchvision\n",
    "import torchvision.transforms as transforms\n",
    "from torch.utils.data import DataLoader\n",
    "#import torch.nn.functional as F\n",
    "#from torchtext import data, datasets\n"
   ]
  },
  {
   "cell_type": "code",
   "execution_count": 10,
   "id": "1118bf56",
   "metadata": {},
   "outputs": [
    {
     "name": "stdout",
     "output_type": "stream",
     "text": [
      "cpu\n"
     ]
    }
   ],
   "source": [
    "device = torch.device(\"cuda\" if torch.cuda.is_available() else 'cpu')\n",
    "print(device)"
   ]
  },
  {
   "cell_type": "code",
   "execution_count": 19,
   "id": "b35e3ad6",
   "metadata": {},
   "outputs": [],
   "source": [
    "# hyper parameter\n",
    "input_size = 28\n",
    "sequence_length = 28\n",
    "num_layers = 2\n",
    "\n",
    "# \n",
    "hidden_size = 128\n",
    "num_classes = 10\n",
    "num_epochs = 2\n",
    "batch_size = 100\n",
    "lr = 0.001"
   ]
  },
  {
   "cell_type": "code",
   "execution_count": 20,
   "id": "9fe86b67",
   "metadata": {},
   "outputs": [],
   "source": [
    "train_dataset = torchvision.datasets.MNIST(root = \"./data\",\n",
    "                                          train = True,\n",
    "                                          transform = transforms.ToTensor(),\n",
    "                                          download = True)\n",
    "\n",
    "test_dataset = torchvision.datasets.MNIST(root = \"./data\",\n",
    "                                          train = False,\n",
    "                                          transform = transforms.ToTensor(),\n",
    "                                          download = True)"
   ]
  },
  {
   "cell_type": "code",
   "execution_count": 22,
   "id": "9a51bd11",
   "metadata": {},
   "outputs": [],
   "source": [
    "train_loader = DataLoader(train_dataset,\n",
    "                          batch_size = batch_size,\n",
    "                          shuffle = True)\n",
    "\n",
    "test_loader = DataLoader(test_dataset,\n",
    "                        batch_size = batch_size,\n",
    "                        shuffle = False)"
   ]
  },
  {
   "cell_type": "code",
   "execution_count": 107,
   "id": "4d268831",
   "metadata": {},
   "outputs": [],
   "source": [
    "class RNN(nn.Module):\n",
    "    def __init__(self, input_size, hidden_size,num_layers, num_classes, model_type:str):\n",
    "        super(RNN, self).__init__()\n",
    "        self.num_layers = num_layers\n",
    "        self.hidden_size = hidden_size\n",
    "        self.model_type = model_type\n",
    "        \n",
    "        if model_type == \"RNN\":\n",
    "            self.rnn = nn.RNN(input_size, hidden_size, num_layers, batch_first = True)\n",
    "        elif model_type == \"GRU\":\n",
    "            self.rnn = nn.GRU(input_size, hidden_size, num_layers, batch_first = True)\n",
    "        elif model_type == \"LSTM\":\n",
    "            self.rnn = nn.LSTM(input_size, hidden_size, num_layers, batch_first = True)\n",
    "\n",
    "        \n",
    "        # x -> (Batch, sequence, feature_size(input_size))\n",
    "        self.fc = nn.Linear(hidden_size, num_classes)\n",
    "        \n",
    "    def forward(self, x):\n",
    "        ho = torch.zeros(self.num_layers, x.size(0), self.hidden_size).to(device) # 2*100*28\n",
    "        co = torch.zeros(self.num_layers, x.size(0), self.hidden_size).to(device) # 2*100*28\n",
    "        \n",
    "        if self.model_type == \"LSTM\":\n",
    "            out,_ = self.rnn(x,(ho,co)) # batch*seq_length*hidden_size\n",
    "        else:\n",
    "            out,_ = self.rnn(x,ho)\n",
    "        \n",
    "        out = out[:,-1,:]\n",
    "        out = self.fc(out)\n",
    "        return out\n",
    "        \n",
    "    "
   ]
  },
  {
   "cell_type": "code",
   "execution_count": 108,
   "id": "27f2af58",
   "metadata": {},
   "outputs": [],
   "source": [
    "# input_size = 28, hidden_size = 128, num_classes = 10\n",
    "model = RNN(input_size, hidden_size,num_layers, num_classes, \"RNN\").to(device)\n",
    "criterion = nn.CrossEntropyLoss()\n",
    "optimizer = torch.optim.Adam(model.parameters(), lr = lr)"
   ]
  },
  {
   "cell_type": "code",
   "execution_count": 165,
   "id": "1a8886fe",
   "metadata": {},
   "outputs": [
    {
     "name": "stdout",
     "output_type": "stream",
     "text": [
      "model_type = RNN, shape:torch.Size([100, 10])\n",
      "model_type = GRU, shape:torch.Size([100, 10])\n",
      "model_type = LSTM, shape:torch.Size([100, 10])\n"
     ]
    }
   ],
   "source": [
    "model_type = [\"RNN\",\"GRU\",\"LSTM\"]\n",
    "\n",
    "def make_model(model_type):\n",
    "    return RNN(input_size, hidden_size,num_layers, num_classes, model_type).to(device)\n",
    "\n",
    "\n",
    "x,y = next(iter(train_loader))\n",
    "x = x.reshape(x.size(0), sequence_length, input_size)\n",
    "models = [make_model(rnn_type) for rnn_type in model_type]\n",
    "for idx,model in enumerate(models):\n",
    "    print(f\"model_type = {model_type[idx]}, shape:{model(x).shape}\")"
   ]
  },
  {
   "cell_type": "code",
   "execution_count": 168,
   "id": "824fcdd4",
   "metadata": {},
   "outputs": [
    {
     "name": "stdout",
     "output_type": "stream",
     "text": [
      "[RNN] Epoch [1/2], Step [100/600], Loss:1.0091\n",
      "[RNN] Epoch [1/2], Step [200/600], Loss:0.8586\n",
      "[RNN] Epoch [1/2], Step [300/600], Loss:0.5610\n",
      "[RNN] Epoch [1/2], Step [400/600], Loss:0.4879\n",
      "[RNN] Epoch [1/2], Step [500/600], Loss:0.5852\n",
      "[RNN] Epoch [1/2], Step [600/600], Loss:0.5508\n",
      "[RNN] Epoch [2/2], Step [100/600], Loss:0.3775\n",
      "[RNN] Epoch [2/2], Step [200/600], Loss:0.1994\n",
      "[RNN] Epoch [2/2], Step [300/600], Loss:0.4172\n",
      "[RNN] Epoch [2/2], Step [400/600], Loss:0.1360\n",
      "[RNN] Epoch [2/2], Step [500/600], Loss:0.2592\n",
      "[RNN] Epoch [2/2], Step [600/600], Loss:0.2185\n",
      "[GRU] Epoch [1/2], Step [100/600], Loss:0.6300\n",
      "[GRU] Epoch [1/2], Step [200/600], Loss:0.6417\n",
      "[GRU] Epoch [1/2], Step [300/600], Loss:0.2719\n",
      "[GRU] Epoch [1/2], Step [400/600], Loss:0.2289\n",
      "[GRU] Epoch [1/2], Step [500/600], Loss:0.1510\n",
      "[GRU] Epoch [1/2], Step [600/600], Loss:0.1237\n",
      "[GRU] Epoch [2/2], Step [100/600], Loss:0.2230\n",
      "[GRU] Epoch [2/2], Step [200/600], Loss:0.1653\n",
      "[GRU] Epoch [2/2], Step [300/600], Loss:0.1623\n",
      "[GRU] Epoch [2/2], Step [400/600], Loss:0.1311\n",
      "[GRU] Epoch [2/2], Step [500/600], Loss:0.0239\n",
      "[GRU] Epoch [2/2], Step [600/600], Loss:0.0552\n",
      "[LSTM] Epoch [1/2], Step [100/600], Loss:0.8312\n",
      "[LSTM] Epoch [1/2], Step [200/600], Loss:0.3828\n",
      "[LSTM] Epoch [1/2], Step [300/600], Loss:0.3111\n",
      "[LSTM] Epoch [1/2], Step [400/600], Loss:0.2234\n",
      "[LSTM] Epoch [1/2], Step [500/600], Loss:0.1844\n",
      "[LSTM] Epoch [1/2], Step [600/600], Loss:0.1216\n",
      "[LSTM] Epoch [2/2], Step [100/600], Loss:0.1211\n",
      "[LSTM] Epoch [2/2], Step [200/600], Loss:0.1223\n",
      "[LSTM] Epoch [2/2], Step [300/600], Loss:0.0987\n",
      "[LSTM] Epoch [2/2], Step [400/600], Loss:0.0807\n",
      "[LSTM] Epoch [2/2], Step [500/600], Loss:0.1693\n",
      "[LSTM] Epoch [2/2], Step [600/600], Loss:0.0760\n"
     ]
    }
   ],
   "source": [
    "for idx, model in enumerate(models):\n",
    "    optimizer = torch.optim.Adam(model.parameters(), lr = lr)\n",
    "    for epoch in range(num_epochs):\n",
    "        n_total_steps = len(train_loader)\n",
    "        for i, (images, labels) in enumerate(train_loader):\n",
    "            images = images.reshape(-1,sequence_length, input_size).to(device)\n",
    "            labels = labels.to(device)\n",
    "\n",
    "            # Forward\n",
    "            outputs = model(images)\n",
    "            loss = criterion(outputs, labels)\n",
    "\n",
    "            # backward\n",
    "            optimizer.zero_grad()\n",
    "            loss.backward()\n",
    "            optimizer.step()\n",
    "\n",
    "            if (i+1)%100 == 0:\n",
    "                print(f\"[{model_type[idx]}] Epoch [{epoch+1}/{num_epochs}], Step [{i+1}/{n_total_steps}], Loss:{loss.item():.4f}\")\n",
    "    print(\"\\n\")            "
   ]
  },
  {
   "cell_type": "code",
   "execution_count": null,
   "id": "6b757baf",
   "metadata": {},
   "outputs": [],
   "source": []
  }
 ],
 "metadata": {
  "kernelspec": {
   "display_name": "Python 3 (ipykernel)",
   "language": "python",
   "name": "python3"
  },
  "language_info": {
   "codemirror_mode": {
    "name": "ipython",
    "version": 3
   },
   "file_extension": ".py",
   "mimetype": "text/x-python",
   "name": "python",
   "nbconvert_exporter": "python",
   "pygments_lexer": "ipython3",
   "version": "3.10.2"
  }
 },
 "nbformat": 4,
 "nbformat_minor": 5
}

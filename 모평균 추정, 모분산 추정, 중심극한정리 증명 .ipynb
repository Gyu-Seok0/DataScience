{
 "cells": [
  {
   "cell_type": "code",
   "execution_count": 1,
   "id": "bae6ca8c",
   "metadata": {},
   "outputs": [],
   "source": [
    "prices = [345500, 339500, 339000, 344500, 344500, 330500, 327500, 329000, 329000]"
   ]
  },
  {
   "cell_type": "code",
   "execution_count": 2,
   "id": "16a6608a",
   "metadata": {},
   "outputs": [
    {
     "data": {
      "text/plain": [
       "[345500, 339500, 339000, 344500, 344500, 330500, 327500, 329000, 329000]"
      ]
     },
     "execution_count": 2,
     "metadata": {},
     "output_type": "execute_result"
    }
   ],
   "source": [
    "import numpy as np\n",
    "prices"
   ]
  },
  {
   "cell_type": "code",
   "execution_count": 3,
   "id": "63bc37ab",
   "metadata": {},
   "outputs": [
    {
     "name": "stdout",
     "output_type": "stream",
     "text": [
      "336555.55555555556 7100.2521255877655\n"
     ]
    }
   ],
   "source": [
    "sample_mean = np.mean(prices)\n",
    "sample_std = np.std(prices)\n",
    "\n",
    "print(sample_mean, sample_std)"
   ]
  },
  {
   "cell_type": "code",
   "execution_count": 20,
   "id": "19c1a0b3",
   "metadata": {},
   "outputs": [
    {
     "data": {
      "text/plain": [
       "0.34427572446831733"
      ]
     },
     "execution_count": 20,
     "metadata": {},
     "output_type": "execute_result"
    }
   ],
   "source": [
    "ratio = (339000 - sample_mean)/sample_std\n",
    "ratio"
   ]
  },
  {
   "cell_type": "code",
   "execution_count": 5,
   "id": "a5872006",
   "metadata": {},
   "outputs": [],
   "source": [
    "# 모평균을 추정해보자.\n",
    "def estimate_mu(s_mean,s_std):\n",
    "    distance = 1.96*s_std/np.sqrt(len(prices))\n",
    "    return s_mean - distance, s_mean + distance"
   ]
  },
  {
   "cell_type": "code",
   "execution_count": 6,
   "id": "84b3d9a5",
   "metadata": {},
   "outputs": [
    {
     "data": {
      "text/plain": [
       "336555.55555555556"
      ]
     },
     "execution_count": 6,
     "metadata": {},
     "output_type": "execute_result"
    }
   ],
   "source": [
    "np.mean(estimate_mu(sample_mean, sample_std))"
   ]
  },
  {
   "cell_type": "code",
   "execution_count": 7,
   "id": "1a5d303e",
   "metadata": {},
   "outputs": [],
   "source": [
    "# 모분산을 추정해보자 -> 카이스퀘어 분포 이용하면 할 수 있음 -> 근데 일단 이게 중요한게 아님.\n",
    "#import scipy.stats as stats"
   ]
  },
  {
   "cell_type": "code",
   "execution_count": 8,
   "id": "60107416",
   "metadata": {},
   "outputs": [],
   "source": [
    "# 내가 궁금한건, 모평균과 모분산이 모두 추정되어서 나오는데 새로 들어오는 샘플이 모집단에서 어디에 위치하는 지를 어떻게 말해줄 수 있을까\n",
    "# 가장 간단한건 샘플이 모집단이라고 가정하고 표현이 가능하다는 것이다.\n",
    "random_sample = np.random.normal(sample_mean, sample_std,100)"
   ]
  },
  {
   "cell_type": "code",
   "execution_count": 9,
   "id": "9efbd4e7",
   "metadata": {},
   "outputs": [
    {
     "data": {
      "text/plain": [
       "336973.7469725755"
      ]
     },
     "execution_count": 9,
     "metadata": {},
     "output_type": "execute_result"
    }
   ],
   "source": [
    "np.mean(random_sample)"
   ]
  },
  {
   "cell_type": "code",
   "execution_count": 10,
   "id": "f2eba61e",
   "metadata": {},
   "outputs": [],
   "source": [
    "import matplotlib.pyplot as plt"
   ]
  },
  {
   "cell_type": "code",
   "execution_count": 19,
   "id": "4595f287",
   "metadata": {},
   "outputs": [
    {
     "data": {
      "image/png": "[encoded data removed]",
      "text/plain": [
       "<Figure size 432x288 with 2 Axes>"
      ]
     },
     "metadata": {
      "needs_background": "light"
     },
     "output_type": "display_data"
    }
   ],
   "source": [
    "fig, ax1 = plt.subplots()\n",
    "ax1.hist(random_sample,histtype=u'step', density=True)\n",
    "\n",
    "ax2 = ax1.twinx()\n",
    "ax2.vlines(339000, ymin = 0, ymax = 10)\n",
    "\n",
    "plt.show()"
   ]
  },
  {
   "cell_type": "code",
   "execution_count": 14,
   "id": "556810af",
   "metadata": {},
   "outputs": [
    {
     "data": {
      "text/plain": [
       "<matplotlib.collections.LineCollection at 0x213a1931340>"
      ]
     },
     "execution_count": 14,
     "metadata": {},
     "output_type": "execute_result"
    },
    {
     "data": {
      "image/png": "[encoded data removed]",
      "text/plain": [
       "<Figure size 432x288 with 1 Axes>"
      ]
     },
     "metadata": {
      "needs_background": "light"
     },
     "output_type": "display_data"
    }
   ],
   "source": [
    "plt.hlines(1,xmin = 0, xmax = 100)"
   ]
  },
  {
   "cell_type": "markdown",
   "id": "6ab96c75",
   "metadata": {},
   "source": [
    "# 중심극한정리\n",
    "모집단의 분포가 뭐든 상관없이, 표본이 30개 이상이라면 표본평균이 이루는 분포는 정규분포(mu,sigma/sqrt(n))를 이룬다 "
   ]
  },
  {
   "cell_type": "code",
   "execution_count": 71,
   "id": "b077e4d6",
   "metadata": {},
   "outputs": [
    {
     "data": {
      "text/plain": [
       "'모평균:0.4902565533201336, 모표준편차:0.291991256731072'"
      ]
     },
     "execution_count": 71,
     "metadata": {},
     "output_type": "execute_result"
    }
   ],
   "source": [
    "np.random.seed(42)\n",
    "total = np.random.random(1000)\n",
    "f\"모평균:{np.mean(total)}, 모표준편차:{np.std(total)}\""
   ]
  },
  {
   "cell_type": "code",
   "execution_count": 78,
   "id": "26ce87f0",
   "metadata": {},
   "outputs": [],
   "source": [
    "import random\n",
    "case = 1000\n",
    "sample_cnt = 300\n",
    "sample_mean = []\n",
    "for i in range(case):\n",
    "    idx = random.sample(range(1000),sample_cnt)\n",
    "    sample_mean.append(np.mean(total[idx]))"
   ]
  },
  {
   "cell_type": "code",
   "execution_count": 79,
   "id": "807f7c77",
   "metadata": {},
   "outputs": [
    {
     "data": {
      "text/plain": [
       "(array([  2.,  14.,  57., 179., 297., 250., 145.,  44.,  11.,   1.]),\n",
       " array([0.44205878, 0.4520478 , 0.46203683, 0.47202586, 0.48201489,\n",
       "        0.49200391, 0.50199294, 0.51198197, 0.52197099, 0.53196002,\n",
       "        0.54194905]),\n",
       " <BarContainer object of 10 artists>)"
      ]
     },
     "execution_count": 79,
     "metadata": {},
     "output_type": "execute_result"
    },
    {
     "data": {
      "image/png": "[encoded data removed]",
      "text/plain": [
       "<Figure size 432x288 with 1 Axes>"
      ]
     },
     "metadata": {
      "needs_background": "light"
     },
     "output_type": "display_data"
    }
   ],
   "source": [
    "plt.hist(sample_mean)"
   ]
  },
  {
   "cell_type": "code",
   "execution_count": 80,
   "id": "5243049c",
   "metadata": {},
   "outputs": [
    {
     "data": {
      "text/plain": [
       "(0.4909154852325457, 0.013404766152541922)"
      ]
     },
     "execution_count": 80,
     "metadata": {},
     "output_type": "execute_result"
    }
   ],
   "source": [
    "np.mean(sample_mean), np.std(sample_mean)"
   ]
  },
  {
   "cell_type": "code",
   "execution_count": 81,
   "id": "6e6ca534",
   "metadata": {},
   "outputs": [
    {
     "data": {
      "text/plain": [
       "(0.4902565533201336, 0.016858123067470154)"
      ]
     },
     "execution_count": 81,
     "metadata": {},
     "output_type": "execute_result"
    }
   ],
   "source": [
    "np.mean(total), np.std(total)/np.sqrt(sample_cnt)"
   ]
  },
  {
   "cell_type": "markdown",
   "id": "c6e75d1c",
   "metadata": {},
   "source": [
    "# MLE방식으로 파라미터 구하기\n",
    "데이터들이 주어질 때, 해당 데이터셋의 가능성을 가장 높이는 파라미터를 찾는 방식이다.\n",
    "\n",
    "근데 생각해보니까, 샘플들의 표본평균과 표본분산을 구해서 우리가 predefined한 값과의 차이만큼 변동시켜주면 되서.. 이것도 굳이 할 필요가 없어졌다.\n",
    "\n",
    "사실상 MLE방식은 우리에게 주어진 샘플을 보고-> 얘네가 무슨 분포겠구나 -> 분포에는 파라미터가 있지 -> 모집단이 가지는 분포의 파라미터는 뭘까 -> 가진거라곤 샘플밖에 없으니까 얘네를 통해 맞춰보자 -> 근데 어떻게 추정할 수 있을까? -> 가지고 있는 데이터들의 가능도를 최대로 만들어주는 (최대/최소 문제) 문제를 사용해보자 -> concave형태로 문제풀이가 가능하겠구나(두번미분하니까 0보다 작았음) -> 미분해서 0인 지점을 수학적으로 표현하자\n",
    "\n",
    "-> MLE는 Determnistic한 방식으로 모집단의 파라미터를 추정한다."
   ]
  },
  {
   "cell_type": "code",
   "execution_count": 84,
   "id": "d870791a",
   "metadata": {},
   "outputs": [],
   "source": [
    "binary_sample = []\n",
    "for _ in range(100):\n",
    "    binary_sample.append(random.choice(range(2)))"
   ]
  },
  {
   "cell_type": "code",
   "execution_count": 87,
   "id": "39c17751",
   "metadata": {},
   "outputs": [
    {
     "data": {
      "text/plain": [
       "0.55"
      ]
     },
     "execution_count": 87,
     "metadata": {},
     "output_type": "execute_result"
    }
   ],
   "source": [
    "np.mean(binary_sample)"
   ]
  },
  {
   "cell_type": "code",
   "execution_count": 95,
   "id": "c62ac991",
   "metadata": {},
   "outputs": [
    {
     "data": {
      "text/plain": [
       "[1]"
      ]
     },
     "execution_count": 95,
     "metadata": {},
     "output_type": "execute_result"
    }
   ],
   "source": [
    "random.choices(range(2), weights = [0.5, 0.5])"
   ]
  },
  {
   "cell_type": "code",
   "execution_count": null,
   "id": "94245291",
   "metadata": {},
   "outputs": [],
   "source": []
  }
 ],
 "metadata": {
  "kernelspec": {
   "display_name": "Python 3 (ipykernel)",
   "language": "python",
   "name": "python3"
  },
  "language_info": {
   "codemirror_mode": {
    "name": "ipython",
    "version": 3
   },
   "file_extension": ".py",
   "mimetype": "text/x-python",
   "name": "python",
   "nbconvert_exporter": "python",
   "pygments_lexer": "ipython3",
   "version": "3.8.10"
  }
 },
 "nbformat": 4,
 "nbformat_minor": 5
}

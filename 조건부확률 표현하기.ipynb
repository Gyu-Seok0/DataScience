{
 "cells": [
  {
   "cell_type": "markdown",
   "id": "6a61a8ab",
   "metadata": {},
   "source": [
    "# 간단한 표본평균, 표본분산, 표본표준편차"
   ]
  },
  {
   "cell_type": "code",
   "execution_count": 4,
   "id": "faebd0d2",
   "metadata": {},
   "outputs": [],
   "source": [
    "import pandas_datareader.data as web\n",
    "import numpy as np\n",
    "\n",
    "df = web.DataReader(\"DJCA\", data_source='fred').dropna()[\"DJCA\"]\n",
    "r = np.log(df / df.shift(1)).dropna().values"
   ]
  },
  {
   "cell_type": "code",
   "execution_count": 11,
   "id": "8ec69860",
   "metadata": {},
   "outputs": [
    {
     "name": "stdout",
     "output_type": "stream",
     "text": [
      "sample_mean:9164.44207472178, sample_var:2085168.445842516, sample_std:1444.0112346663082\n",
      "연간변동성:1444.0112346663082*16\n"
     ]
    }
   ],
   "source": [
    "s_mean = np.mean(df.values)\n",
    "s_var = np.var(df.values)\n",
    "s_std = np.std(df.values)\n",
    "\n",
    "print(f\"sample_mean:{s_mean}, sample_var:{s_var}, sample_std:{s_std}\")\n"
   ]
  },
  {
   "cell_type": "markdown",
   "id": "48e89480",
   "metadata": {},
   "source": [
    "# 조건부확률 표현하기\n",
    "-> P(X|Y) = P(X,Y) / P(Y) 형태로 표현\n",
    "\n",
    "https://blog.naver.com/PostView.naver?blogId=rlgus4175&logNo=222102235422&parentCategoryNo=&categoryNo=12&viewDate=&isShowPopularPosts=true&from=search"
   ]
  },
  {
   "cell_type": "code",
   "execution_count": 15,
   "id": "cd188a52",
   "metadata": {},
   "outputs": [
    {
     "data": {
      "text/html": [
       "<div>\n",
       "<style scoped>\n",
       "    .dataframe tbody tr th:only-of-type {\n",
       "        vertical-align: middle;\n",
       "    }\n",
       "\n",
       "    .dataframe tbody tr th {\n",
       "        vertical-align: top;\n",
       "    }\n",
       "\n",
       "    .dataframe thead th {\n",
       "        text-align: right;\n",
       "    }\n",
       "</style>\n",
       "<table border=\"1\" class=\"dataframe\">\n",
       "  <thead>\n",
       "    <tr style=\"text-align: right;\">\n",
       "      <th></th>\n",
       "      <th>Genre</th>\n",
       "      <th>Fun</th>\n",
       "    </tr>\n",
       "  </thead>\n",
       "  <tbody>\n",
       "    <tr>\n",
       "      <th>0</th>\n",
       "      <td>C</td>\n",
       "      <td>Y</td>\n",
       "    </tr>\n",
       "    <tr>\n",
       "      <th>1</th>\n",
       "      <td>A</td>\n",
       "      <td>N</td>\n",
       "    </tr>\n",
       "    <tr>\n",
       "      <th>2</th>\n",
       "      <td>C</td>\n",
       "      <td>Y</td>\n",
       "    </tr>\n",
       "    <tr>\n",
       "      <th>3</th>\n",
       "      <td>A</td>\n",
       "      <td>Y</td>\n",
       "    </tr>\n",
       "    <tr>\n",
       "      <th>4</th>\n",
       "      <td>A</td>\n",
       "      <td>N</td>\n",
       "    </tr>\n",
       "  </tbody>\n",
       "</table>\n",
       "</div>"
      ],
      "text/plain": [
       "  Genre Fun\n",
       "0     C   Y\n",
       "1     A   N\n",
       "2     C   Y\n",
       "3     A   Y\n",
       "4     A   N"
      ]
     },
     "execution_count": 15,
     "metadata": {},
     "output_type": "execute_result"
    }
   ],
   "source": [
    "import pandas as pd\n",
    "df = pd.DataFrame({\n",
    "    'Genre': ['C','A','C','A','A','C','C','A'], # comedy, action\n",
    "    'Fun': ['Y','N','Y','Y','N','Y','N','Y']\n",
    "})\n",
    "df.head()"
   ]
  },
  {
   "cell_type": "code",
   "execution_count": 21,
   "id": "34ac8869",
   "metadata": {},
   "outputs": [
    {
     "data": {
      "text/plain": [
       "Genre\n",
       "A    0.5\n",
       "C    0.5\n",
       "dtype: float64"
      ]
     },
     "execution_count": 21,
     "metadata": {},
     "output_type": "execute_result"
    }
   ],
   "source": [
    "# Genre의 사전확률\n",
    "probGenre = df.groupby('Genre').size().div(len(df))\n",
    "probGenre"
   ]
  },
  {
   "cell_type": "code",
   "execution_count": 20,
   "id": "a44a3d5f",
   "metadata": {},
   "outputs": [
    {
     "data": {
      "text/plain": [
       "Fun\n",
       "N    0.375\n",
       "Y    0.625\n",
       "dtype: float64"
      ]
     },
     "execution_count": 20,
     "metadata": {},
     "output_type": "execute_result"
    }
   ],
   "source": [
    "# Fun의 사전확률\n",
    "df.groupby('Fun').size().div(len(df))"
   ]
  },
  {
   "cell_type": "code",
   "execution_count": 25,
   "id": "44069ee4",
   "metadata": {},
   "outputs": [
    {
     "data": {
      "text/plain": [
       "Genre  Fun\n",
       "A      N      0.250\n",
       "       Y      0.250\n",
       "C      N      0.125\n",
       "       Y      0.375\n",
       "dtype: float64"
      ]
     },
     "execution_count": 25,
     "metadata": {},
     "output_type": "execute_result"
    }
   ],
   "source": [
    "probFunByGenre = df.groupby(['Genre','Fun']).size().div(len(df))\n",
    "probFunByGenre"
   ]
  },
  {
   "cell_type": "code",
   "execution_count": 27,
   "id": "bb20b61e",
   "metadata": {},
   "outputs": [
    {
     "data": {
      "text/plain": [
       "Genre  Fun\n",
       "A      N      0.50\n",
       "       Y      0.50\n",
       "C      N      0.25\n",
       "       Y      0.75\n",
       "dtype: float64"
      ]
     },
     "execution_count": 27,
     "metadata": {},
     "output_type": "execute_result"
    }
   ],
   "source": [
    "# Likelihood or 조건부확률 P(Fun | Genre)\n",
    "likelihood = probFunByGenre.div(probGenre)\n",
    "likelihood"
   ]
  },
  {
   "cell_type": "code",
   "execution_count": 35,
   "id": "cf5b82d8",
   "metadata": {},
   "outputs": [
    {
     "name": "stdout",
     "output_type": "stream",
     "text": [
      "0.5\n",
      "0.5\n",
      "0.5\n",
      "0.25\n",
      "0.375\n"
     ]
    }
   ],
   "source": [
    "# 전체에서 Action일 확률\n",
    "print(probGenre['A'])\n",
    "\n",
    "# 전체에서 comedy일 확률\n",
    "print(probGenre['C'])\n",
    "\n",
    "# Given 액션, 재미있을 확률\n",
    "print(likelihood[1])\n",
    "\n",
    "# Given 재미, 액션일 확률 -> 사후확률\n",
    "print(likelihood[1]*probGenre[\"A\"])\n",
    "\n",
    "# Given 재미, 코미디일 확률 -> 사후확률\n",
    "print(likelihood[3]*probGenre[\"C\"])"
   ]
  },
  {
   "cell_type": "code",
   "execution_count": null,
   "id": "c51df21d",
   "metadata": {},
   "outputs": [],
   "source": []
  }
 ],
 "metadata": {
  "kernelspec": {
   "display_name": "Python 3 (ipykernel)",
   "language": "python",
   "name": "python3"
  },
  "language_info": {
   "codemirror_mode": {
    "name": "ipython",
    "version": 3
   },
   "file_extension": ".py",
   "mimetype": "text/x-python",
   "name": "python",
   "nbconvert_exporter": "python",
   "pygments_lexer": "ipython3",
   "version": "3.9.7"
  }
 },
 "nbformat": 4,
 "nbformat_minor": 5
}
